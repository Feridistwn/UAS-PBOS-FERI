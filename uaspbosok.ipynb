{
 "cells": [
  {
   "cell_type": "code",
   "execution_count": 21,
   "id": "02e54d60",
   "metadata": {},
   "outputs": [
    {
     "name": "stdout",
     "output_type": "stream",
     "text": [
      "MENGHITUNG LUAS & KELILING PERSEGI PANJANG\n",
      "\n",
      "Masukan Panjang: 10\n",
      "Masukan Lebar: 10\n",
      "\n",
      "Luas Persegi Panjang \t\t: 100\n",
      "Keliling Persegi Panjang\t: 40\n"
     ]
    }
   ],
   "source": [
    "#JUDUL\n",
    "print(\"MENGHITUNG LUAS & KELILING PERSEGI PANJANG\")\n",
    "\n",
    "#FUNGSI\n",
    "def hitungLuas(panjang, lebar):\n",
    "    return panjang*lebar\n",
    "def kelilingPersegiPanjang(panjang, lebar):\n",
    "    return ((panjang*2)+(lebar*2))\n",
    "\n",
    "\n",
    "#INPUT\n",
    "panjang = int(input(\"\\nMasukan Panjang: \"))\n",
    "lebar = int(input(\"Masukan Lebar: \"))\n",
    "\n",
    "#PRINT OUT\n",
    "print(\"\\nLuas Persegi Panjang \\t\\t:\",hitungLuas(panjang, lebar))\n",
    "print(\"Keliling Persegi Panjang\\t:\", kelilingPersegiPanjang(panjang, lebar))"
   ]
  },
  {
   "cell_type": "code",
   "execution_count": 19,
   "id": "26db3499",
   "metadata": {},
   "outputs": [
    {
     "name": "stdout",
     "output_type": "stream",
     "text": [
      "NAMA : fei\n",
      "NIM : 2121\n",
      "ALAMAT : desk\n",
      "\n",
      "\n",
      "NAMA   : fei\n",
      "NIM    : 2121\n",
      "ALAMAT : desk\n"
     ]
    }
   ],
   "source": [
    "class data:\n",
    "    def __init__(self, nama, nim, alamat):\n",
    "        self.nama   = nama\n",
    "        self.nim    = nim\n",
    "        self.alamat = alamat\n",
    "    \n",
    "nama   = input(\"NAMA : \")\n",
    "nim    = input(\"NIM : \")\n",
    "alamat = input(\"ALAMAT : \")\n",
    "\n",
    "dt = data(nama, nim, alamat)\n",
    "\n",
    "print(\"\\n\")\n",
    "print(\"NAMA   : \" + dt.nama)\n",
    "print(\"NIM    : \" + dt.nim)\n",
    "print(\"ALAMAT : \" + dt.alamat)"
   ]
  },
  {
   "cell_type": "code",
   "execution_count": null,
   "id": "e250414c",
   "metadata": {},
   "outputs": [
    {
     "name": "stdout",
     "output_type": "stream",
     "text": [
      "+ = tambah\n",
      "- = kurang\n",
      "* = kali\n",
      "/ = bagi\n",
      "\n",
      "Pilihan Operasi: -\n",
      "Bilangan Pertama: 90\n",
      "Bilangan Kedua: 80\n",
      "Hasil operasi dari  90  -  80  adalah  10\n",
      "\n",
      "\n",
      "+ = tambah\n",
      "- = kurang\n",
      "* = kali\n",
      "/ = bagi\n",
      "\n"
     ]
    }
   ],
   "source": [
    "class cal:\n",
    "    def tambah(self, x, y):\n",
    "        return x+y\n",
    "    \n",
    "    def kurang(self, x, y):\n",
    "        return x-y\n",
    "        \n",
    "    def kali(self, x, y):\n",
    "        return x*y\n",
    "\n",
    "    def bagi(self, x, y):\n",
    "        return x/y\n",
    "\n",
    "kal = cal()\n",
    "\n",
    "while True:\n",
    "\n",
    "    print(\"+ = tambah\\n- = kurang\\n* = kali\\n/ = bagi\\n\")\n",
    "    \n",
    "    op = (input(\"Pilihan Operasi: \"))\n",
    "    \n",
    "    x = int(input(\"Bilangan Pertama: \"))\n",
    "    y = int(input(\"Bilangan Kedua: \"))\n",
    "        \n",
    "    if(op == \"+\"):\n",
    "            print(\"Hasil operasi dari \", x, \" + \", y, \" adalah \", kal.tambah(x, y))\n",
    "    elif(op == \"-\"):\n",
    "            print(\"Hasil operasi dari \", x, \" - \", y, \" adalah \", kal.kurang(x, y))\n",
    "    elif(op == \"*\"):\n",
    "            print(\"Hasil operasi dari \", x, \" * \", y, \" adalah \", kal.kali(x, y))\n",
    "    elif(op == \"/\"):\n",
    "            print(\"Hasil operasi dari \", x, \" / \", y, \" adalah \", kal.bagi(x, y))\n",
    "    print(\"\\n\")"
   ]
  },
  {
   "cell_type": "code",
   "execution_count": null,
   "id": "30afee3f",
   "metadata": {},
   "outputs": [],
   "source": []
  }
 ],
 "metadata": {
  "kernelspec": {
   "display_name": "Python 3",
   "language": "python",
   "name": "python3"
  },
  "language_info": {
   "codemirror_mode": {
    "name": "ipython",
    "version": 3
   },
   "file_extension": ".py",
   "mimetype": "text/x-python",
   "name": "python",
   "nbconvert_exporter": "python",
   "pygments_lexer": "ipython3",
   "version": "3.8.8"
  }
 },
 "nbformat": 4,
 "nbformat_minor": 5
}
